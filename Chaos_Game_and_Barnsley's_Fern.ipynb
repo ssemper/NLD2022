{
  "nbformat": 4,
  "nbformat_minor": 0,
  "metadata": {
    "colab": {
      "name": "Chaos Game and Barnsley's Fern.ipynb",
      "provenance": [],
      "include_colab_link": true
    },
    "kernelspec": {
      "name": "python3",
      "display_name": "Python 3"
    }
  },
  "cells": [
    {
      "cell_type": "markdown",
      "metadata": {
        "id": "view-in-github",
        "colab_type": "text"
      },
      "source": [
        "<a href=\"https://colab.research.google.com/github/ssemper/NLD2022/blob/main/Chaos_Game_and_Barnsley's_Fern.ipynb\" target=\"_parent\"><img src=\"https://colab.research.google.com/assets/colab-badge.svg\" alt=\"Open In Colab\"/></a>"
      ]
    },
    {
      "cell_type": "code",
      "metadata": {
        "id": "tFcuQY63kEGS"
      },
      "source": [
        "!pip install git+https://github.com/williamedwardhahn/mpcr\n",
        "from mpcr import *"
      ],
      "execution_count": null,
      "outputs": []
    },
    {
      "cell_type": "markdown",
      "metadata": {
        "id": "eaThoU3V71_Y"
      },
      "source": [
        "#Part 1"
      ]
    },
    {
      "cell_type": "code",
      "metadata": {
        "id": "f0j1EOx_sXdy"
      },
      "source": [
        "def midpoint(P, Q):\n",
        "    return (0.5*(P[0] + Q[0]), 0.5*(P[1] + Q[1]))"
      ],
      "execution_count": null,
      "outputs": []
    },
    {
      "cell_type": "code",
      "metadata": {
        "id": "5ZMkjXgisZi5"
      },
      "source": [
        "vertices = [(0, 0), (2, 2*np.sqrt(3)), (4, 0)]\n",
        "n = 25 # Change this value and see what happens"
      ],
      "execution_count": null,
      "outputs": []
    },
    {
      "cell_type": "code",
      "metadata": {
        "id": "YYwU1D5Fscl4"
      },
      "source": [
        "x = [0]*n \n",
        "y = [0]*n\n",
        "x[0] = np.random.random()\n",
        "y[0] = np.random.random()"
      ],
      "execution_count": null,
      "outputs": []
    },
    {
      "cell_type": "code",
      "source": [
        "x[0]"
      ],
      "metadata": {
        "colab": {
          "base_uri": "https://localhost:8080/"
        },
        "id": "RCtheVFIXIhm",
        "outputId": "d6972d0b-eed2-4d54-c97e-8c8ac4ebd3c1"
      },
      "execution_count": null,
      "outputs": [
        {
          "output_type": "execute_result",
          "data": {
            "text/plain": [
              "0.33085544224900754"
            ]
          },
          "metadata": {},
          "execution_count": 60
        }
      ]
    },
    {
      "cell_type": "code",
      "metadata": {
        "id": "rz7Xkh3isbQw"
      },
      "source": [
        "for i in range(1, n):\n",
        "    x[i], y[i] = midpoint( vertices[randint(0, 2)], (x[i-1], y[i-1]) )"
      ],
      "execution_count": null,
      "outputs": []
    },
    {
      "cell_type": "code",
      "metadata": {
        "id": "ckckEjH6sgdU"
      },
      "source": [
        "plt.scatter(x, y, color = 'b', s=1)"
      ],
      "execution_count": null,
      "outputs": []
    },
    {
      "cell_type": "code",
      "metadata": {
        "id": "L6jVdRab7PW2"
      },
      "source": [
        "#HW: Extend this code to create patterns like these"
      ],
      "execution_count": null,
      "outputs": []
    },
    {
      "cell_type": "markdown",
      "metadata": {
        "id": "7DkPd-kC7p_C"
      },
      "source": [
        "<img src ='http://math.hws.edu/eck/js/chaos-game/exercises.png'>\n",
        "\n"
      ]
    },
    {
      "cell_type": "code",
      "metadata": {
        "id": "RQOhRUqz7PaG"
      },
      "source": [],
      "execution_count": null,
      "outputs": []
    },
    {
      "cell_type": "markdown",
      "metadata": {
        "id": "nlwy-8dL74IJ"
      },
      "source": [
        "# Part 2"
      ]
    },
    {
      "cell_type": "markdown",
      "source": [
        "https://www.youtube.com/watch?v=xoXe0AljUMA"
      ],
      "metadata": {
        "id": "cE9-b6iVFIYW"
      }
    },
    {
      "cell_type": "code",
      "metadata": {
        "id": "RvxFOTul00Xa"
      },
      "source": [
        "# Barnsley's Fern"
      ],
      "execution_count": null,
      "outputs": []
    },
    {
      "cell_type": "code",
      "metadata": {
        "id": "7o3gjB4800V8"
      },
      "source": [
        "# 1% of the time:x → 0,y → 0.16 y\n",
        "# 85% of the time:x → 0.85 x + 0.04 y, y → −0.04 x + 0.05 y + 1.6\n",
        "# 7% of the time:x → 0.2 x − 0.26 y, y → 0.23 x + 0.22 y + 1.6\n",
        "# 7% of the time:x → −0.15 x + 0.28 y, y → 0.26 x + 0.24 y + 0.44"
      ],
      "execution_count": null,
      "outputs": []
    },
    {
      "cell_type": "code",
      "metadata": {
        "id": "Lwke1kMb168O"
      },
      "source": [
        "def pick(p):\n",
        "    c = np.cumsum(p)\n",
        "    return bisect(c, np.random.random() * c[-1])"
      ],
      "execution_count": null,
      "outputs": []
    },
    {
      "cell_type": "code",
      "metadata": {
        "id": "RcEoTxlk8a-t"
      },
      "source": [
        "p = np.array([0.01,0.07,0.07,0.85])"
      ],
      "execution_count": null,
      "outputs": []
    },
    {
      "cell_type": "code",
      "metadata": {
        "id": "ix4UwDEt8a-v"
      },
      "source": [
        "eq = [np.array([[0,0,0],[0,0.16,0]]),\n",
        "      np.array([[0.2,-0.26,0],[0.23,0.22,1.6]]),\n",
        "      np.array([[-0.15, 0.28, 0],[0.26,0.24,0.44]]),\n",
        "      np.array([[0.85, 0.04, 0],[-0.04, 0.85, 1.6]])]"
      ],
      "execution_count": null,
      "outputs": []
    },
    {
      "cell_type": "code",
      "metadata": {
        "id": "JhydR9yF-rMF"
      },
      "source": [
        "n = 25 # Change this value and see what happens\n",
        "x = np.zeros((n,3))\n",
        "x[:,2] = 1"
      ],
      "execution_count": null,
      "outputs": []
    },
    {
      "cell_type": "code",
      "metadata": {
        "id": "39kOU2wT0LPk"
      },
      "source": [
        "for i in range(1,n):\n",
        "    x[i,:2] = np.matmul(eq[pick(p)],x[i-1,:])"
      ],
      "execution_count": null,
      "outputs": []
    },
    {
      "cell_type": "code",
      "metadata": {
        "id": "EZqK4oeW8USh"
      },
      "source": [
        "plt.figure(figsize=(10,10))\n",
        "plt.scatter(x[:,0], x[:, 1], s=3, c=\"g\", marker=\"s\", linewidths=0)\n",
        "plt.axis(\"equal\"),plt.axis(\"off\");"
      ],
      "execution_count": null,
      "outputs": []
    },
    {
      "cell_type": "code",
      "metadata": {
        "id": "FFhFowd9y_r5"
      },
      "source": [],
      "execution_count": null,
      "outputs": []
    }
  ]
}